{
 "metadata": {
  "name": "",
  "signature": "sha256:3406fb4a198556d450a696671f85e90c24c5fa64272ef548ad074060254912fb"
 },
 "nbformat": 3,
 "nbformat_minor": 0,
 "worksheets": [
  {
   "cells": [
    {
     "cell_type": "heading",
     "level": 3,
     "metadata": {},
     "source": [
      "Computation of new and old computation of  $C_0$"
     ]
    },
    {
     "cell_type": "code",
     "collapsed": false,
     "input": [
      "%matplotlib inline\n",
      "import matplotlib.pyplot as plt\n",
      "import numpy as np\n",
      "from scipy.optimize import minimize\n",
      "from scipy.linalg import toeplitz, cholesky, eigh, inv\n",
      "from numpy.linalg import slogdet\n",
      "import scipy.sparse as sps\n",
      "zapsmall = 1e-15"
     ],
     "language": "python",
     "metadata": {},
     "outputs": [],
     "prompt_number": 1
    },
    {
     "cell_type": "code",
     "collapsed": false,
     "input": [
      "param = {'x':np.arange(100,dtype=float),\n",
      "         't':np.arange(10,50,5,dtype=float),\n",
      "         'y':np.arange(100,dtype=float),\n",
      "         'u':0.5*np.arange(100,dtype=float),\n",
      "         'y0':15., 'u0':10., \n",
      "         'm0':-3., 'sigma0':3.,\n",
      "         'v':2., 'sigma_d':0.05}\n",
      "for key in ['x','t','y','u']:\n",
      "    param['N'+key]=len(param[key])\n",
      "    param['d'+key]=param[key][1]-param[key][0]\n",
      "from kjma_inference.past_light_cone import past_light_cone_matrix_area\n",
      "param['R'] = past_light_cone_matrix_area(param)\n",
      "import pickle\n",
      "data = pickle.load(open('artificial_data/gaussian_blob.data.pkl', 'rb'))\n",
      "param['d']=data.ravel()\n",
      "theta_MAP = pickle.load(open('artificial_data/gaussian_blob.theta_MAP.pkl', 'rb'))"
     ],
     "language": "python",
     "metadata": {},
     "outputs": [],
     "prompt_number": 2
    },
    {
     "cell_type": "code",
     "collapsed": false,
     "input": [
      "from kjma_inference.compute_MAP_KJMA_old import compute_C0_y_C0_u_for_param as old_compute_C0\n",
      "from kjma_inference.compute_MAP_KJMA import compute_C0_y_C0_u_for_param as new_compute_C0\n",
      "from kjma_inference.compute_MAP_KJMA import product_C0_vec, product_vec_C0\n",
      "from kjma_inference.compute_MAP_KJMA import product_mat_C0"
     ],
     "language": "python",
     "metadata": {},
     "outputs": [],
     "prompt_number": 3
    },
    {
     "cell_type": "code",
     "collapsed": false,
     "input": [
      "new_compute_C0(param)\n",
      "old_compute_C0(param)"
     ],
     "language": "python",
     "metadata": {},
     "outputs": [],
     "prompt_number": 4
    },
    {
     "cell_type": "code",
     "collapsed": false,
     "input": [
      "vec = np.random.normal(size=param['N_theta'])\n",
      "C0_vec_old = param['Id_y_C0_u']*(param['C0_y_Id_u']*vec)\n",
      "C0_vec_new = product_C0_vec(param,vec)\n",
      "print np.max(np.abs(C0_vec_old - C0_vec_new)/np.abs(C0_vec_new))\n",
      "\n",
      "%timeit param['Id_y_C0_u']*(param['C0_y_Id_u']*vec)\n",
      "%timeit product_C0_vec(param,vec)"
     ],
     "language": "python",
     "metadata": {},
     "outputs": [
      {
       "output_type": "stream",
       "stream": "stdout",
       "text": [
        "2.64419148746e-13\n",
        "1000 loops, best of 3: 836 \u00b5s per loop"
       ]
      },
      {
       "output_type": "stream",
       "stream": "stdout",
       "text": [
        "\n",
        "1000 loops, best of 3: 252 \u00b5s per loop"
       ]
      },
      {
       "output_type": "stream",
       "stream": "stdout",
       "text": [
        "\n"
       ]
      }
     ],
     "prompt_number": 5
    },
    {
     "cell_type": "code",
     "collapsed": false,
     "input": [
      "vuc = np.random.normal(size=param['Ny']*param['Nu'])\n",
      "vuc_C0_old = (vuc*param['Id_y_C0_u'])*param['C0_y_Id_u']\n",
      "vuc_C0_new = product_vec_C0(param,vuc)\n",
      "print np.max(np.abs(vuc_C0_old - vuc_C0_new)/np.abs(vuc_C0_new))\n",
      "\n",
      "%timeit (vuc*param['Id_y_C0_u'])*param['C0_y_Id_u']\n",
      "%timeit product_vec_C0(param,vuc)"
     ],
     "language": "python",
     "metadata": {},
     "outputs": [
      {
       "output_type": "stream",
       "stream": "stdout",
       "text": [
        "6.37190268839e-12\n",
        "100 loops, best of 3: 4.24 ms per loop"
       ]
      },
      {
       "output_type": "stream",
       "stream": "stdout",
       "text": [
        "\n",
        "1000 loops, best of 3: 256 \u00b5s per loop"
       ]
      },
      {
       "output_type": "stream",
       "stream": "stdout",
       "text": [
        "\n"
       ]
      }
     ],
     "prompt_number": 6
    },
    {
     "cell_type": "heading",
     "level": 3,
     "metadata": {},
     "source": [
      "Comparison of old and new computation of $H$"
     ]
    },
    {
     "cell_type": "code",
     "collapsed": false,
     "input": [
      "print param['N_theta'], theta_MAP.shape"
     ],
     "language": "python",
     "metadata": {},
     "outputs": [
      {
       "output_type": "stream",
       "stream": "stdout",
       "text": [
        "810 (810,)\n"
       ]
      }
     ],
     "prompt_number": 7
    },
    {
     "cell_type": "code",
     "collapsed": false,
     "input": [
      "theta = theta_MAP"
     ],
     "language": "python",
     "metadata": {},
     "outputs": [],
     "prompt_number": 8
    },
    {
     "cell_type": "heading",
     "level": 4,
     "metadata": {},
     "source": [
      "Commun aux deux m\u00e9thodes"
     ]
    },
    {
     "cell_type": "code",
     "collapsed": false,
     "input": [
      "C0_theta = product_C0_vec(param,theta)\n",
      "m = param['m0'] + C0_theta\n",
      "I = m  # 10**m\n",
      "A = np.dot(param['R'],I)\n",
      "s = A   #exp(-A)\n",
      "r = param['d']-s"
     ],
     "language": "python",
     "metadata": {},
     "outputs": [],
     "prompt_number": 9
    },
    {
     "cell_type": "heading",
     "level": 4,
     "metadata": {},
     "source": [
      "Calcul de $J_m$"
     ]
    },
    {
     "cell_type": "code",
     "collapsed": false,
     "input": [
      "s_I = np.outer(s,I)\n",
      "r_I = np.outer(r,I)\n",
      "J_m_old = -np.log(10)*(s_I*param['R'])\n",
      "K_m_old = -np.log(10)*(r_I*param['R'])\n",
      "\n",
      "J_m_new = -np.log(10)*(s[:,np.newaxis]*I[np.newaxis,:]*param['R'])\n",
      "K_m_new = -np.log(10)*(r[:,np.newaxis]*I[np.newaxis,:]*param['R'])\n",
      "\n",
      "print np.all(J_m_new==J_m_old)\n",
      "print np.all(K_m_new==K_m_old)"
     ],
     "language": "python",
     "metadata": {},
     "outputs": [
      {
       "output_type": "stream",
       "stream": "stdout",
       "text": [
        "True\n",
        "True\n"
       ]
      }
     ],
     "prompt_number": 10
    },
    {
     "cell_type": "heading",
     "level": 4,
     "metadata": {},
     "source": [
      "Calcul de $J_{\\theta}$"
     ]
    },
    {
     "cell_type": "code",
     "collapsed": false,
     "input": [
      "J_theta_old =  (J_m_old*param['Id_y_C0_u'])*param['C0_y_Id_u']\n",
      "J_theta_new = product_mat_C0(param, J_m_new)\n",
      "\n",
      "print np.all(J_theta_new==J_theta_old)\n",
      "print np.max(np.abs(J_theta_new-J_theta_old)/np.abs(J_theta_old))"
     ],
     "language": "python",
     "metadata": {},
     "outputs": [
      {
       "output_type": "stream",
       "stream": "stdout",
       "text": [
        "False\n",
        "1.94062018636e-09\n"
       ]
      }
     ],
     "prompt_number": 11
    },
    {
     "cell_type": "heading",
     "level": 4,
     "metadata": {},
     "source": [
      "Calcul de $C_0^T \\; \\mathrm{diag}(r^T J_m) \\; C_0$"
     ]
    },
    {
     "cell_type": "code",
     "collapsed": false,
     "input": [
      "rJ_vec = np.dot(r,J_m_old)\n",
      "Nyu = param['Ny']*param['Nu']\n",
      "D = sps.dia_matrix((rJ_vec,0), shape=(Nyu,Nyu))\n",
      "D_C0 = (D*param['Id_y_C0_u'])*param['C0_y_Id_u']\n",
      "C0T_D_C0 = param['C0_y_Id_u'].T*(param['Id_y_C0_u'].T*D_C0)\n",
      "\n",
      "rJ = np.dot(r,J_m_new)\n",
      "rJ = rJ.reshape(param['Ny'],param['Nu'])\n",
      "C0T_rJ = param['sigma0'] * (rJ[np.newaxis,np.newaxis,:,:]\n",
      "                                *(param['C0_y'].T)[:,np.newaxis,:,np.newaxis]\n",
      "                                *(param['C0_u'].T)[np.newaxis,:,np.newaxis,:])\n",
      "C0T_rJ = C0T_rJ.reshape(param['N_theta'], param['Ny']*param['Nu'])\n",
      "C0T_rJ_C0 = product_mat_C0(param, C0T_rJ)\n",
      "\n",
      "print np.max(np.abs(C0T_D_C0 - C0T_rJ_C0)/np.abs(C0T_rJ_C0))"
     ],
     "language": "python",
     "metadata": {},
     "outputs": [
      {
       "output_type": "stream",
       "stream": "stdout",
       "text": [
        "2.60551128888e-07\n"
       ]
      }
     ],
     "prompt_number": 12
    },
    {
     "cell_type": "heading",
     "level": 4,
     "metadata": {},
     "source": [
      "Calcul complet  de $H$"
     ]
    },
    {
     "cell_type": "code",
     "collapsed": false,
     "input": [
      "from kjma_inference.compute_MAP_KJMA_old import hessian_MAP_KJMA as hessian_old\n",
      "from kjma_inference.compute_MAP_KJMA import hessian_MAP_KJMA as hessian_new"
     ],
     "language": "python",
     "metadata": {},
     "outputs": [],
     "prompt_number": 13
    },
    {
     "cell_type": "code",
     "collapsed": false,
     "input": [
      "H_old = hessian_old(theta_MAP, param)\n",
      "H_new = hessian_new(theta_MAP, param)\n",
      "\n",
      "print np.max(np.abs(H_old - H_new)/np.abs(H_new))"
     ],
     "language": "python",
     "metadata": {},
     "outputs": [
      {
       "output_type": "stream",
       "stream": "stdout",
       "text": [
        "7.75454776088e-10\n"
       ]
      }
     ],
     "prompt_number": 14
    },
    {
     "cell_type": "code",
     "collapsed": false,
     "input": [
      "%timeit H_old = hessian_old(theta_MAP, param)\n",
      "%timeit H_new = hessian_new(theta_MAP, param)"
     ],
     "language": "python",
     "metadata": {},
     "outputs": [
      {
       "output_type": "stream",
       "stream": "stdout",
       "text": [
        "1 loops, best of 3: 3.27 s per loop\n",
        "1 loops, best of 3: 1.31 s per loop"
       ]
      },
      {
       "output_type": "stream",
       "stream": "stdout",
       "text": [
        "\n"
       ]
      }
     ],
     "prompt_number": 15
    },
    {
     "cell_type": "heading",
     "level": 2,
     "metadata": {},
     "source": [
      "Why is `np.einsum()` so slow ?"
     ]
    },
    {
     "cell_type": "code",
     "collapsed": false,
     "input": [
      "%%timeit\n",
      "theta_mat = theta.reshape(param['range_y'],param['range_u'])\n",
      "C0_theta_mat = np.einsum('ij,kl,jl', param['C0_y'],param['C0_u'], theta_mat)\n",
      "C0_theta = C0_theta_mat.ravel()"
     ],
     "language": "python",
     "metadata": {},
     "outputs": [
      {
       "output_type": "stream",
       "stream": "stdout",
       "text": [
        "10 loops, best of 3: 34.2 ms per loop\n"
       ]
      }
     ],
     "prompt_number": 10
    },
    {
     "cell_type": "code",
     "collapsed": false,
     "input": [
      "%%timeit\n",
      "u_mat = np.random.random(size=(100,100))\n",
      "u_C0 = np.einsum('ij,kl,ik', param['C0_y'],param['C0_u'], u_mat)\n",
      "u_C0 = u_C0.ravel()"
     ],
     "language": "python",
     "metadata": {},
     "outputs": [
      {
       "output_type": "stream",
       "stream": "stdout",
       "text": [
        "10 loops, best of 3: 24.4 ms per loop\n"
       ]
      }
     ],
     "prompt_number": 11
    },
    {
     "cell_type": "code",
     "collapsed": false,
     "input": [
      "%%timeit\n",
      "J_theta_ein = np.einsum('aij,ik,jl', \n",
      "                        J_m_mat, \n",
      "                        param['C0_y'],\n",
      "                        param['C0_u'])"
     ],
     "language": "python",
     "metadata": {},
     "outputs": [
      {
       "output_type": "stream",
       "stream": "stdout",
       "text": [
        "1 loops, best of 3: 19.8 s per loop\n"
       ]
      }
     ],
     "prompt_number": 27
    },
    {
     "cell_type": "code",
     "collapsed": false,
     "input": [
      "#%%timeit Trop long! \n",
      "#rJ_mat = rJ_vec.reshape(param['Ny'],param['Nu'])\n",
      "#C0T_D_C0 = np.einsum('ia,ib,jc,jd,ij->abcd',\n",
      "#                     param['C0_y'],param['C0_y'],\n",
      "#                     param['C0_u'],param['C0_u'],\n",
      "#                     rJ_mat)"
     ],
     "language": "python",
     "metadata": {},
     "outputs": []
    }
   ],
   "metadata": {}
  }
 ]
}